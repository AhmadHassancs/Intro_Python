{
 "cells": [
  {
   "cell_type": "code",
   "execution_count": 1,
   "metadata": {},
   "outputs": [],
   "source": [
    "# pandas is a module and latter in our code,we will refer to it as pd\n",
    "import pandas as pd\n",
    "\n",
    "# the variable called data will contain all the data in the .csv file\n",
    "data = pd.read_csv('lsd_math.csv') #this line will read the data in .csv file"
   ]
  },
  {
   "cell_type": "code",
   "execution_count": 2,
   "metadata": {
    "collapsed": true
   },
   "outputs": [
    {
     "name": "stdout",
     "output_type": "stream",
     "text": [
      "   Time_Delay_in_Minutes  LSD_ppm  Avg_Math_Test_Score\n",
      "0                      5     1.17                78.93\n",
      "1                     15     2.97                58.20\n",
      "2                     30     3.26                67.47\n",
      "3                     60     4.69                37.47\n",
      "4                    120     5.83                45.65\n",
      "5                    240     6.00                32.92\n",
      "6                    480     6.41                29.97\n"
     ]
    }
   ],
   "source": [
    "print(data)       # to show/list/display the lsd_math.csv file"
   ]
  },
  {
   "cell_type": "markdown",
   "metadata": {},
   "source": [
    "a dataframe is more like a collection,with a clearly defined structure. \n",
    "a dataframe is stuctured in rows and columns"
   ]
  },
  {
   "cell_type": "code",
   "execution_count": 3,
   "metadata": {
    "collapsed": true
   },
   "outputs": [
    {
     "data": {
      "text/plain": [
       "pandas.core.frame.DataFrame"
      ]
     },
     "execution_count": 3,
     "metadata": {},
     "output_type": "execute_result"
    }
   ],
   "source": [
    "# prectice exercise\n",
    "# find the type of the data variable\n",
    "\n",
    "type(data)"
   ]
  },
  {
   "cell_type": "code",
   "execution_count": 4,
   "metadata": {
    "collapsed": true
   },
   "outputs": [
    {
     "data": {
      "text/plain": [
       "0      5\n",
       "1     15\n",
       "2     30\n",
       "3     60\n",
       "4    120\n",
       "5    240\n",
       "6    480\n",
       "Name: Time_Delay_in_Minutes, dtype: int64"
      ]
     },
     "execution_count": 4,
     "metadata": {},
     "output_type": "execute_result"
    }
   ],
   "source": [
    "# to grab a column from a dataframe, in the ' ' we provide the colume name\n",
    "data['Time_Delay_in_Minutes']"
   ]
  },
  {
   "cell_type": "code",
   "execution_count": 5,
   "metadata": {
    "collapsed": true
   },
   "outputs": [
    {
     "name": "stdout",
     "output_type": "stream",
     "text": [
      "0      5\n",
      "1     15\n",
      "2     30\n",
      "3     60\n",
      "4    120\n",
      "5    240\n",
      "6    480\n",
      "Name: Time_Delay_in_Minutes, dtype: int64\n"
     ]
    }
   ],
   "source": [
    "# to save the extracted data in a new variavble\n",
    "time_delay = data['Time_Delay_in_Minutes']\n",
    "print(time_delay)"
   ]
  },
  {
   "cell_type": "code",
   "execution_count": 6,
   "metadata": {
    "collapsed": true
   },
   "outputs": [
    {
     "name": "stdout",
     "output_type": "stream",
     "text": [
      "   Time_Delay_in_Minutes  LSD_ppm  Avg_Math_Test_Score         test_column\n",
      "0                      5     1.17                78.93  data_of_new_column\n",
      "1                     15     2.97                58.20  data_of_new_column\n",
      "2                     30     3.26                67.47  data_of_new_column\n",
      "3                     60     4.69                37.47  data_of_new_column\n",
      "4                    120     5.83                45.65  data_of_new_column\n",
      "5                    240     6.00                32.92  data_of_new_column\n",
      "6                    480     6.41                29.97  data_of_new_column\n"
     ]
    }
   ],
   "source": [
    "# to add a new column in the dataframe\n",
    "\n",
    "# the line below can be explained as;  data['column name'] = 'things that u want inside the new column'\n",
    "data['test_column'] = 'data_of_new_column' \n",
    "\n",
    "print(data)"
   ]
  },
  {
   "cell_type": "code",
   "execution_count": 7,
   "metadata": {
    "collapsed": true
   },
   "outputs": [
    {
     "name": "stdout",
     "output_type": "stream",
     "text": [
      "   Time_Delay_in_Minutes  LSD_ppm  Avg_Math_Test_Score         test_column  \\\n",
      "0                      5     1.17                78.93  data_of_new_column   \n",
      "1                     15     2.97                58.20  data_of_new_column   \n",
      "2                     30     3.26                67.47  data_of_new_column   \n",
      "3                     60     4.69                37.47  data_of_new_column   \n",
      "4                    120     5.83                45.65  data_of_new_column   \n",
      "5                    240     6.00                32.92  data_of_new_column   \n",
      "6                    480     6.41                29.97  data_of_new_column   \n",
      "\n",
      "   high_score  \n",
      "0         100  \n",
      "1         100  \n",
      "2         100  \n",
      "3         100  \n",
      "4         100  \n",
      "5         100  \n",
      "6         100  \n"
     ]
    }
   ],
   "source": [
    "data['high_score'] = 100\n",
    "print(data)"
   ]
  },
  {
   "cell_type": "code",
   "execution_count": 8,
   "metadata": {
    "collapsed": true
   },
   "outputs": [
    {
     "name": "stdout",
     "output_type": "stream",
     "text": [
      "   Time_Delay_in_Minutes  LSD_ppm  Avg_Math_Test_Score         test_column  \\\n",
      "0                      5     1.17                78.93  data_of_new_column   \n",
      "1                     15     2.97                58.20  data_of_new_column   \n",
      "2                     30     3.26                67.47  data_of_new_column   \n",
      "3                     60     4.69                37.47  data_of_new_column   \n",
      "4                    120     5.83                45.65  data_of_new_column   \n",
      "5                    240     6.00                32.92  data_of_new_column   \n",
      "6                    480     6.41                29.97  data_of_new_column   \n",
      "\n",
      "   high_score  \n",
      "0      178.93  \n",
      "1      158.20  \n",
      "2      167.47  \n",
      "3      137.47  \n",
      "4      145.65  \n",
      "5      132.92  \n",
      "6      129.97  \n"
     ]
    }
   ],
   "source": [
    "# prectice exercise\n",
    "# add 100 to each of the Avg_Math_Test_Score values and place it in the high_score\n",
    "\n",
    "data['high_score'] = data['high_score'] + data['Avg_Math_Test_Score']\n",
    "print(data)"
   ]
  },
  {
   "cell_type": "code",
   "execution_count": 9,
   "metadata": {
    "collapsed": true
   },
   "outputs": [
    {
     "name": "stdout",
     "output_type": "stream",
     "text": [
      "   Time_Delay_in_Minutes  LSD_ppm  Avg_Math_Test_Score         test_column  \\\n",
      "0                      5     1.17                78.93  data_of_new_column   \n",
      "1                     15     2.97                58.20  data_of_new_column   \n",
      "2                     30     3.26                67.47  data_of_new_column   \n",
      "3                     60     4.69                37.47  data_of_new_column   \n",
      "4                    120     5.83                45.65  data_of_new_column   \n",
      "5                    240     6.00                32.92  data_of_new_column   \n",
      "6                    480     6.41                29.97  data_of_new_column   \n",
      "\n",
      "   high_score  \n",
      "0  32015.9449  \n",
      "1  25027.2400  \n",
      "2  28046.2009  \n",
      "3  18898.0009  \n",
      "4  21213.9225  \n",
      "5  17667.7264  \n",
      "6  16892.2009  \n"
     ]
    }
   ],
   "source": [
    "# prectice exercise\n",
    "# square the values inside the high_score column\n",
    "\n",
    "data['high_score'] = data['high_score'] * data['high_score']\n",
    "print(data)\n",
    "\n",
    "# we can also find the square as \n",
    "# data['high_score'] = data['high_score'] **2"
   ]
  },
  {
   "cell_type": "markdown",
   "metadata": {},
   "source": [
    "series is similler to an array. the difference are \n",
    "1. series is always only one column. \n",
    "2. it is single dimension. \n",
    "3. it cannot be a matrix like an array or a list."
   ]
  },
  {
   "cell_type": "code",
   "execution_count": 10,
   "metadata": {
    "collapsed": true
   },
   "outputs": [
    {
     "data": {
      "text/plain": [
       "pandas.core.series.Series"
      ]
     },
     "execution_count": 10,
     "metadata": {},
     "output_type": "execute_result"
    }
   ],
   "source": [
    "type(time_delay)"
   ]
  },
  {
   "cell_type": "code",
   "execution_count": 11,
   "metadata": {},
   "outputs": [],
   "source": [
    "# to extract a set/few columns from a dataframe.\n",
    "# prectice exercise\n",
    "# make a list of the columns (columnList) and put 'LSD_ppm' & 'Avg_Math_Test_Score' in it\n",
    "\n",
    "columnList = ['LSD_ppm', 'Avg_Math_Test_Score']\n"
   ]
  },
  {
   "cell_type": "code",
   "execution_count": 12,
   "metadata": {
    "collapsed": true
   },
   "outputs": [
    {
     "name": "stdout",
     "output_type": "stream",
     "text": [
      "   LSD_ppm  Avg_Math_Test_Score\n",
      "0     1.17                78.93\n",
      "1     2.97                58.20\n",
      "2     3.26                67.47\n",
      "3     4.69                37.47\n",
      "4     5.83                45.65\n",
      "5     6.00                32.92\n",
      "6     6.41                29.97\n"
     ]
    }
   ],
   "source": [
    "# to make a dataframe out of the columnList\n",
    "# the dataframe will be called as 'cleanData'\n",
    "cleanData = data[columnList]\n",
    "print(cleanData)\n",
    "\n",
    "# the above code can be optimized as\n",
    "# cleanData = data['LSD_ppm', 'Avg_Math_Test_Score']"
   ]
  },
  {
   "cell_type": "code",
   "execution_count": 13,
   "metadata": {
    "collapsed": true
   },
   "outputs": [
    {
     "data": {
      "text/plain": [
       "pandas.core.frame.DataFrame"
      ]
     },
     "execution_count": 13,
     "metadata": {},
     "output_type": "execute_result"
    }
   ],
   "source": [
    "type(cleanData)"
   ]
  },
  {
   "cell_type": "code",
   "execution_count": 14,
   "metadata": {
    "collapsed": true
   },
   "outputs": [
    {
     "name": "stdout",
     "output_type": "stream",
     "text": [
      "   LSD_ppm\n",
      "0     1.17\n",
      "1     2.97\n",
      "2     3.26\n",
      "3     4.69\n",
      "4     5.83\n",
      "5     6.00\n",
      "6     6.41\n"
     ]
    },
    {
     "data": {
      "text/plain": [
       "pandas.core.frame.DataFrame"
      ]
     },
     "execution_count": 14,
     "metadata": {},
     "output_type": "execute_result"
    }
   ],
   "source": [
    "# prectice exercise\n",
    "# create a variable called X\n",
    "# set X = values in LSD_ppm\n",
    "# make X a dataframe\n",
    "# print X and show its type\n",
    "\n",
    "X = data[['LSD_ppm']]\n",
    "print(X)\n",
    "type(X)"
   ]
  },
  {
   "cell_type": "code",
   "execution_count": 15,
   "metadata": {
    "collapsed": true
   },
   "outputs": [
    {
     "name": "stdout",
     "output_type": "stream",
     "text": [
      "   Time_Delay_in_Minutes  LSD_ppm  Avg_Math_Test_Score  high_score\n",
      "0                      5     1.17                78.93  32015.9449\n",
      "1                     15     2.97                58.20  25027.2400\n",
      "2                     30     3.26                67.47  28046.2009\n",
      "3                     60     4.69                37.47  18898.0009\n",
      "4                    120     5.83                45.65  21213.9225\n",
      "5                    240     6.00                32.92  17667.7264\n",
      "6                    480     6.41                29.97  16892.2009\n"
     ]
    }
   ],
   "source": [
    "# to delete a column from a dataframe\n",
    "\n",
    "del data['test_column']\n",
    "print(data)"
   ]
  },
  {
   "cell_type": "code",
   "execution_count": 16,
   "metadata": {
    "collapsed": true
   },
   "outputs": [
    {
     "name": "stdout",
     "output_type": "stream",
     "text": [
      "   Time_Delay_in_Minutes  LSD_ppm  Avg_Math_Test_Score\n",
      "0                      5     1.17                78.93\n",
      "1                     15     2.97                58.20\n",
      "2                     30     3.26                67.47\n",
      "3                     60     4.69                37.47\n",
      "4                    120     5.83                45.65\n",
      "5                    240     6.00                32.92\n",
      "6                    480     6.41                29.97\n"
     ]
    }
   ],
   "source": [
    "del data['high_score']\n",
    "print(data)"
   ]
  },
  {
   "cell_type": "markdown",
   "metadata": {},
   "source": [
    "following are about import statements and modules. \n",
    "modules are like libraries, frameworks. \n",
    "we use import to add a module. \n",
    "we created a life.py file and uploaded it into our notebook. \n",
    "now we will import it."
   ]
  },
  {
   "cell_type": "code",
   "execution_count": 17,
   "metadata": {
    "collapsed": true
   },
   "outputs": [
    {
     "data": {
      "text/plain": [
       "module"
      ]
     },
     "execution_count": 17,
     "metadata": {},
     "output_type": "execute_result"
    }
   ],
   "source": [
    "import life\n",
    "import math\n",
    "type(life)"
   ]
  },
  {
   "cell_type": "code",
   "execution_count": 18,
   "metadata": {
    "collapsed": true
   },
   "outputs": [
    {
     "data": {
      "text/plain": [
       "42"
      ]
     },
     "execution_count": 18,
     "metadata": {},
     "output_type": "execute_result"
    }
   ],
   "source": [
    "# to access the code inside the life module\n",
    "# theAnswer is a variable defined in the life.py and is assigned a value of 42\n",
    "life.theAnswer"
   ]
  },
  {
   "cell_type": "code",
   "execution_count": 19,
   "metadata": {
    "collapsed": true
   },
   "outputs": [
    {
     "data": {
      "text/plain": [
       "3.141592653589793"
      ]
     },
     "execution_count": 19,
     "metadata": {},
     "output_type": "execute_result"
    }
   ],
   "source": [
    "# prectice exercise\n",
    "# import math module\n",
    "# print the value of pi and e\n",
    "math.pi\n"
   ]
  },
  {
   "cell_type": "code",
   "execution_count": 20,
   "metadata": {
    "collapsed": true
   },
   "outputs": [
    {
     "data": {
      "text/plain": [
       "2.718281828459045"
      ]
     },
     "execution_count": 20,
     "metadata": {},
     "output_type": "execute_result"
    }
   ],
   "source": [
    "math.e"
   ]
  },
  {
   "cell_type": "code",
   "execution_count": 21,
   "metadata": {
    "collapsed": true
   },
   "outputs": [
    {
     "data": {
      "text/plain": [
       "42"
      ]
     },
     "execution_count": 21,
     "metadata": {},
     "output_type": "execute_result"
    }
   ],
   "source": [
    "# prectice exercise \n",
    "# from life.py file import the variable called theAnswer and print its value\n",
    "\n",
    "from life import theAnswer\n",
    "theAnswer"
   ]
  },
  {
   "cell_type": "code",
   "execution_count": 22,
   "metadata": {
    "collapsed": true
   },
   "outputs": [
    {
     "name": "stdout",
     "output_type": "stream",
     "text": [
      "42\n",
      "44\n",
      "43\n"
     ]
    }
   ],
   "source": [
    "# we can also manipulate the value of the variable(theAnswer) inside the module(life.py)\n",
    "# myFaviriteNumber is a new variable\n",
    "myFavoriteNumber = theAnswer\n",
    "print(theAnswer)\n",
    "\n",
    "#we can also do as\n",
    "theAnswer = theAnswer + 2\n",
    "print(theAnswer)\n",
    "\n",
    "# to manipulate the answer it self\n",
    "myFavoriteNumber = myFavoriteNumber + 1\n",
    "print(myFavoriteNumber)\n"
   ]
  },
  {
   "cell_type": "code",
   "execution_count": 23,
   "metadata": {},
   "outputs": [],
   "source": [
    "# by using (as) we will refer to the module as (plt) in the code latter\n",
    "import matplotlib.pyplot as plt\n",
    "\n",
    "# we will refer to (LinearRegression) as (linreg) in the code latter\n",
    "from sklearn.linear_model import LinearRegression as linreg\n"
   ]
  },
  {
   "cell_type": "markdown",
   "metadata": {},
   "source": [
    "the following lines are about funtions. with a funtion we can bundle up many instruction into a single instruction. we can also give the funtion a descriptive name."
   ]
  },
  {
   "cell_type": "code",
   "execution_count": 24,
   "metadata": {
    "collapsed": true
   },
   "outputs": [
    {
     "name": "stdout",
     "output_type": "stream",
     "text": [
      "opne the door\n",
      "walk to the store\n",
      "buy milk on the ground floor\n",
      "return with milk bottles\n"
     ]
    }
   ],
   "source": [
    "# to make a funtion\n",
    "def get_milk():\n",
    "    print('opne the door')\n",
    "    print('walk to the store')\n",
    "    print('buy milk on the ground floor')\n",
    "    print('return with milk bottles')\n",
    "\n",
    "# to call the function\n",
    "get_milk()"
   ]
  },
  {
   "cell_type": "markdown",
   "metadata": {},
   "source": [
    "the following lines are about funtions with argumenets & parameters"
   ]
  },
  {
   "cell_type": "code",
   "execution_count": 25,
   "metadata": {},
   "outputs": [],
   "source": [
    "# to create a funtion that takes an input\n",
    "def fill_the_fridg(amount):\n",
    "    print('walk to the store')\n",
    "    print('get ' + amount + ' liters of milk') # this is how we cancatinate/combine a string\n",
    "    print('return home with milk bottles')"
   ]
  },
  {
   "cell_type": "code",
   "execution_count": 26,
   "metadata": {
    "collapsed": true
   },
   "outputs": [
    {
     "name": "stdout",
     "output_type": "stream",
     "text": [
      "walk to the store\n",
      "get 4 liters of milk\n",
      "return home with milk bottles\n"
     ]
    }
   ],
   "source": [
    "# now we are gonna call the funtions while also providing it with input value\n",
    "fill_the_fridg('4')"
   ]
  },
  {
   "cell_type": "code",
   "execution_count": 27,
   "metadata": {
    "collapsed": true
   },
   "outputs": [
    {
     "name": "stdout",
     "output_type": "stream",
     "text": [
      "walk to the store\n",
      "get one hundred liters of milk\n",
      "return home with milk bottles\n"
     ]
    }
   ],
   "source": [
    "fill_the_fridg('one hundred')"
   ]
  },
  {
   "cell_type": "markdown",
   "metadata": {},
   "source": [
    "funtion with multiple parameters"
   ]
  },
  {
   "cell_type": "code",
   "execution_count": 28,
   "metadata": {},
   "outputs": [],
   "source": [
    "# to create a funtion that takes multiple input\n",
    "\n",
    "def milk_mission(amount, destination):    # this is called funtion header\n",
    "    print('walk to the ' + destination)   # this is also cancatination\n",
    "    print('get ' + amount + ' liters of milk') # this is how we cancatinate/combine a string\n",
    "    print('return home with milk bottles')"
   ]
  },
  {
   "cell_type": "code",
   "execution_count": 29,
   "metadata": {
    "collapsed": true
   },
   "outputs": [
    {
     "name": "stdout",
     "output_type": "stream",
     "text": [
      "walk to the store\n",
      "get 4 liters of milk\n",
      "return home with milk bottles\n"
     ]
    }
   ],
   "source": [
    "# arguments to a funtion are passed according to their position in the funtion header\n",
    "# the parameter(amount = 4) and the parameter(destination = store)\n",
    "milk_mission('4', 'store')"
   ]
  },
  {
   "cell_type": "code",
   "execution_count": 30,
   "metadata": {
    "collapsed": true
   },
   "outputs": [
    {
     "name": "stdout",
     "output_type": "stream",
     "text": [
      "walk to the store\n",
      "get 4 liters of milk\n",
      "return home with milk bottles\n"
     ]
    }
   ],
   "source": [
    "# we can also pass arguments as\n",
    "milk_mission(amount ='4', destination='store')"
   ]
  },
  {
   "cell_type": "markdown",
   "metadata": {},
   "source": [
    "following are about funtions to return a value"
   ]
  },
  {
   "cell_type": "code",
   "execution_count": 31,
   "metadata": {},
   "outputs": [],
   "source": [
    "# prectice exercise\n",
    "def times(x, y):   # times is an built in funtion\n",
    "    test = x*y\n",
    "    return test"
   ]
  },
  {
   "cell_type": "code",
   "execution_count": 32,
   "metadata": {
    "collapsed": true
   },
   "outputs": [
    {
     "data": {
      "text/plain": [
       "15.9826"
      ]
     },
     "execution_count": 32,
     "metadata": {},
     "output_type": "execute_result"
    }
   ],
   "source": [
    "times(3.14, 5.09)"
   ]
  },
  {
   "cell_type": "markdown",
   "metadata": {},
   "source": [
    "The folllowing lines are about objects. Understanding their attributes and Methods. Almost everything in Python is an object. All the data in the Python is object. Methods are funtions that belong to an object. We are also going to update our life.py file."
   ]
  },
  {
   "cell_type": "code",
   "execution_count": 33,
   "metadata": {
    "collapsed": true
   },
   "outputs": [
    {
     "data": {
      "text/plain": [
       "str"
      ]
     },
     "execution_count": 33,
     "metadata": {},
     "output_type": "execute_result"
    }
   ],
   "source": [
    "# the type of the data is related to the value inside the the varible\n",
    "\n",
    "myAge = 'One Hundred'\n",
    "type(myAge)\n",
    "\n",
    "# in the above lines the type of variable (myAge) was int(integer) and here it is (str) i.e (string)"
   ]
  },
  {
   "cell_type": "code",
   "execution_count": 34,
   "metadata": {
    "collapsed": true
   },
   "outputs": [
    {
     "data": {
      "text/plain": [
       "float"
      ]
     },
     "execution_count": 34,
     "metadata": {},
     "output_type": "execute_result"
    }
   ],
   "source": [
    "# here is another example\n",
    "\n",
    "myAge = 20.53\n",
    "type(myAge)\n",
    "\n",
    "# so the type of data depends on the data inside the variable"
   ]
  },
  {
   "cell_type": "markdown",
   "metadata": {},
   "source": [
    "In the below two examples the funtions (square_root) and (quote_marvin) are defined in the life.py file that we already have uploaded to our notebook."
   ]
  },
  {
   "cell_type": "code",
   "execution_count": 35,
   "metadata": {
    "collapsed": true
   },
   "outputs": [
    {
     "data": {
      "text/plain": [
       "7.946068210127573"
      ]
     },
     "execution_count": 35,
     "metadata": {},
     "output_type": "execute_result"
    }
   ],
   "source": [
    "# prectice exercise\n",
    "# this is how a method is called from a module using (.) followed by the name of the method\n",
    "# in the below example, the life module is used as an object.\n",
    "\n",
    "life.square_root(63.14)"
   ]
  },
  {
   "cell_type": "code",
   "execution_count": 36,
   "metadata": {
    "collapsed": true
   },
   "outputs": [
    {
     "name": "stdout",
     "output_type": "stream",
     "text": [
      "Life is like a river, It just keeps going on no matter what happens.\n"
     ]
    }
   ],
   "source": [
    "life.quote_marvin()"
   ]
  },
  {
   "cell_type": "markdown",
   "metadata": {},
   "source": [
    "Now we are gonna use regression to analyze the data provided by a study conducted in US in 1968 on how drugs affect math test scores. We will write code to visualize and analyze the data and find out the linear regression."
   ]
  },
  {
   "cell_type": "code",
   "execution_count": 37,
   "metadata": {
    "collapsed": true
   },
   "outputs": [
    {
     "data": {
      "text/html": [
       "<div>\n",
       "<style scoped>\n",
       "    .dataframe tbody tr th:only-of-type {\n",
       "        vertical-align: middle;\n",
       "    }\n",
       "\n",
       "    .dataframe tbody tr th {\n",
       "        vertical-align: top;\n",
       "    }\n",
       "\n",
       "    .dataframe thead th {\n",
       "        text-align: right;\n",
       "    }\n",
       "</style>\n",
       "<table border=\"1\" class=\"dataframe\">\n",
       "  <thead>\n",
       "    <tr style=\"text-align: right;\">\n",
       "      <th></th>\n",
       "      <th>Time_Delay_in_Minutes</th>\n",
       "      <th>LSD_ppm</th>\n",
       "      <th>Avg_Math_Test_Score</th>\n",
       "    </tr>\n",
       "  </thead>\n",
       "  <tbody>\n",
       "    <tr>\n",
       "      <th>0</th>\n",
       "      <td>5</td>\n",
       "      <td>1.17</td>\n",
       "      <td>78.93</td>\n",
       "    </tr>\n",
       "    <tr>\n",
       "      <th>1</th>\n",
       "      <td>15</td>\n",
       "      <td>2.97</td>\n",
       "      <td>58.20</td>\n",
       "    </tr>\n",
       "    <tr>\n",
       "      <th>2</th>\n",
       "      <td>30</td>\n",
       "      <td>3.26</td>\n",
       "      <td>67.47</td>\n",
       "    </tr>\n",
       "    <tr>\n",
       "      <th>3</th>\n",
       "      <td>60</td>\n",
       "      <td>4.69</td>\n",
       "      <td>37.47</td>\n",
       "    </tr>\n",
       "    <tr>\n",
       "      <th>4</th>\n",
       "      <td>120</td>\n",
       "      <td>5.83</td>\n",
       "      <td>45.65</td>\n",
       "    </tr>\n",
       "    <tr>\n",
       "      <th>5</th>\n",
       "      <td>240</td>\n",
       "      <td>6.00</td>\n",
       "      <td>32.92</td>\n",
       "    </tr>\n",
       "    <tr>\n",
       "      <th>6</th>\n",
       "      <td>480</td>\n",
       "      <td>6.41</td>\n",
       "      <td>29.97</td>\n",
       "    </tr>\n",
       "  </tbody>\n",
       "</table>\n",
       "</div>"
      ],
      "text/plain": [
       "   Time_Delay_in_Minutes  LSD_ppm  Avg_Math_Test_Score\n",
       "0                      5     1.17                78.93\n",
       "1                     15     2.97                58.20\n",
       "2                     30     3.26                67.47\n",
       "3                     60     4.69                37.47\n",
       "4                    120     5.83                45.65\n",
       "5                    240     6.00                32.92\n",
       "6                    480     6.41                29.97"
      ]
     },
     "execution_count": 37,
     "metadata": {},
     "output_type": "execute_result"
    }
   ],
   "source": [
    "data"
   ]
  },
  {
   "cell_type": "code",
   "execution_count": 38,
   "metadata": {},
   "outputs": [],
   "source": [
    "# we are gonna extract a column from the data\n",
    "time = data[['Time_Delay_in_Minutes']]\n",
    "\n",
    "LSD = data[['LSD_ppm']]\n",
    "\n",
    "Score = data[['Avg_Math_Test_Score']]"
   ]
  },
  {
   "cell_type": "code",
   "execution_count": 39,
   "metadata": {
    "collapsed": true
   },
   "outputs": [
    {
     "data": {
      "image/png": "[encoded data removed]",
      "text/plain": [
       "<Figure size 432x288 with 1 Axes>"
      ]
     },
     "metadata": {
      "needs_background": "light"
     },
     "output_type": "display_data"
    }
   ],
   "source": [
    "# this line will allow us to exort our chart when we save/download the notebook\n",
    "%matplotlib inline\n",
    "\n",
    "# now we are gonna visualize the data inside the new variables\n",
    "# we are gonna plot time and LSD\n",
    "                                                 # we also specified the width of the line.\n",
    "plt.title('Tissue Concentration of LSD Overtime', fontsize=17)\n",
    "\n",
    "plt.xlabel('Time in Minutes', fontsize=14)\n",
    "plt.ylabel('Tissue LSD ppm', fontsize=14)\n",
    "\n",
    "# we can also add free text to the graph...( x,y) are coordinates, (s) is string/text to be displayed in the graph\n",
    "plt.text(x=0, y=-0.5, s='Wagner et al. (1968)')\n",
    "\n",
    "# to change the size of the values at x-axis & y-axis\n",
    "plt.xticks(fontsize=13)\n",
    "plt.yticks(fontsize=13)\n",
    "\n",
    "# to set limit for the values at x-axis and y-axis... we provide lower bound and an upper bound \n",
    "plt.xlim(0,500)\n",
    "plt.ylim(1,7)\n",
    "\n",
    "# we can also use built-in style in the matplotlib.pyplot... we provide it with the name of the style.\n",
    "plt.style.use('ggplot')\n",
    "\n",
    "plt.plot(time, LSD, color = 'g', linewidth=5)    # we specified the color of the line in the graph. g=green, time=x-axis, LSD=y-axis\n",
    "plt.show()"
   ]
  },
  {
   "cell_type": "code",
   "execution_count": 52,
   "metadata": {
    "collapsed": true
   },
   "outputs": [
    {
     "name": "stdout",
     "output_type": "stream",
     "text": [
      "Theta1 :  -9.009466415296783\n",
      "Intercept : 89.12387376799306\n",
      "Goodness of Fit:  0.8778349707775888\n"
     ]
    }
   ],
   "source": [
    "# we are now going to find the linear regression of the research.\n",
    "# regline is allias of linearRegression..... regr is just a variable\n",
    "regr = linreg()\n",
    "\n",
    "# by using fit we provide values to the linearReagression to make the prediction\n",
    "regr.fit(LSD, Score)\n",
    "\n",
    "regr.coef_[0]        # to print the entire array use regr.coef_ and to print the 1st element of the array use regr.coef_[0]\n",
    "print ('Theta1 : ', regr.coef_[0][0])\n",
    "\n",
    "print ('Intercept :', regr.intercept_[0])\n",
    "\n",
    "# now to calculate how much of the variation in our data is explained by the amount of drugs in the volunters tissus (R squared)\n",
    "# to calculate the goodness of fit/(R squared) we use (score) funtion\n",
    "\n",
    "print ('Goodness of Fit: ' ,regr.score(LSD, Score))\n"
   ]
  },
  {
   "cell_type": "code",
   "execution_count": 8,
   "metadata": {
    "collapsed": true
   },
   "outputs": [
    {
     "data": {
      "text/plain": [
       "4"
      ]
     },
     "execution_count": 8,
     "metadata": {},
     "output_type": "execute_result"
    }
   ],
   "source": [
    "x = 1\n",
    "y = 3\n",
    "sum1=x + y\n",
    "sum1"
   ]
  },
  {
   "cell_type": "code",
   "execution_count": 30,
   "metadata": {
    "collapsed": true
   },
   "outputs": [
    {
     "data": {
      "text/plain": [
       "'hassan khan'"
      ]
     },
     "execution_count": 30,
     "metadata": {},
     "output_type": "execute_result"
    }
   ],
   "source": [
    "# string \n",
    "name = 'hassan'\n",
    "#name\n",
    "# string cancatination\n",
    "name + ' khan'\n",
    "# geting a character from the string \n",
    "#name[0]"
   ]
  },
  {
   "cell_type": "code",
   "execution_count": 28,
   "metadata": {
    "collapsed": true
   },
   "outputs": [
    {
     "data": {
      "text/plain": [
       "'ha'"
      ]
     },
     "execution_count": 28,
     "metadata": {},
     "output_type": "execute_result"
    }
   ],
   "source": [
    "# getting specific value from the string\n",
    "name[0:2]"
   ]
  },
  {
   "cell_type": "code",
   "execution_count": 29,
   "metadata": {
    "collapsed": true
   },
   "outputs": [
    {
     "data": {
      "text/plain": [
       "'ahmad hassan'"
      ]
     },
     "execution_count": 29,
     "metadata": {},
     "output_type": "execute_result"
    }
   ],
   "source": [
    "# manipulating string varible\n",
    "'ahmad '+name"
   ]
  },
  {
   "cell_type": "code",
   "execution_count": 36,
   "metadata": {
    "collapsed": true
   },
   "outputs": [
    {
     "data": {
      "text/plain": [
       "[1, 2, 'ahmad', 0.3]"
      ]
     },
     "execution_count": 36,
     "metadata": {},
     "output_type": "execute_result"
    }
   ],
   "source": [
    "# lists\n",
    "list1 = [1, 2, 'ahmad', 0.3]\n",
    "list1"
   ]
  },
  {
   "cell_type": "code",
   "execution_count": 39,
   "metadata": {
    "collapsed": true
   },
   "outputs": [
    {
     "data": {
      "text/plain": [
       "[1, 2, 'ahmad', 'hassan']"
      ]
     },
     "execution_count": 39,
     "metadata": {},
     "output_type": "execute_result"
    }
   ],
   "source": [
    "# change the values of the list\n",
    "list1[3]='hassan'\n",
    "list1"
   ]
  },
  {
   "cell_type": "code",
   "execution_count": 41,
   "metadata": {
    "collapsed": true
   },
   "outputs": [
    {
     "data": {
      "text/plain": [
       "[[1, 2, 'ahmad', 'hassan'], ['kamal', 2, 5, 'jamal', 0.3]]"
      ]
     },
     "execution_count": 41,
     "metadata": {},
     "output_type": "execute_result"
    }
   ],
   "source": [
    "# list inside another list\n",
    "list3 = ['kamal', 2, 5, 'jamal', 0.3]\n",
    "\n",
    "list_final = [list1, list3]\n",
    "list_final"
   ]
  },
  {
   "cell_type": "code",
   "execution_count": 45,
   "metadata": {
    "collapsed": true
   },
   "outputs": [
    {
     "data": {
      "text/plain": [
       "[1, 2, 'ahmad', 'hassan', 2, 2, 'khan bahadar']"
      ]
     },
     "execution_count": 45,
     "metadata": {},
     "output_type": "execute_result"
    }
   ],
   "source": [
    "# add values to the list\n",
    "list1.append(2)\n",
    "list1\n",
    "# append text\n",
    "list1.append('khan bahadar')\n",
    "list1"
   ]
  },
  {
   "cell_type": "code",
   "execution_count": 46,
   "metadata": {
    "collapsed": true
   },
   "outputs": [
    {
     "data": {
      "text/plain": [
       "[1, 1122, 2, 'ahmad', 'hassan', 2, 2, 'khan bahadar']"
      ]
     },
     "execution_count": 46,
     "metadata": {},
     "output_type": "execute_result"
    }
   ],
   "source": [
    "# using insert funtion on the list object to add values in the list at a certain index\n",
    "# in INSERT we provide the index number as well\n",
    "list1.insert(1, 1122)\n",
    "list1"
   ]
  },
  {
   "cell_type": "code",
   "execution_count": 47,
   "metadata": {
    "collapsed": true
   },
   "outputs": [
    {
     "data": {
      "text/plain": [
       "[1122, 2, 'ahmad', 'hassan', 2, 2, 'khan bahadar']"
      ]
     },
     "execution_count": 47,
     "metadata": {},
     "output_type": "execute_result"
    }
   ],
   "source": [
    "# delete from a list\n",
    "# it removes a specif value from the list(provided inside the parantesis)\n",
    "list1.remove(1)\n",
    "list1"
   ]
  },
  {
   "cell_type": "code",
   "execution_count": 51,
   "metadata": {
    "collapsed": true
   },
   "outputs": [
    {
     "data": {
      "text/plain": [
       "[2, 2, 'khan bahadar']"
      ]
     },
     "execution_count": 51,
     "metadata": {},
     "output_type": "execute_result"
    }
   ],
   "source": [
    "# to delete from a specific index\n",
    "list1.pop(0)\n",
    "list1"
   ]
  },
  {
   "cell_type": "code",
   "execution_count": 52,
   "metadata": {
    "collapsed": true
   },
   "outputs": [
    {
     "data": {
      "text/plain": [
       "[2, 2, 'khan bahadar', 1, 2, 3, 'ahmad', 44]"
      ]
     },
     "execution_count": 52,
     "metadata": {},
     "output_type": "execute_result"
    }
   ],
   "source": [
    "# add multiple values to list(its values can be changed)\n",
    "list1.extend([1,2,3,'ahmad',44])\n",
    "list1"
   ]
  },
  {
   "cell_type": "code",
   "execution_count": 2,
   "metadata": {
    "collapsed": true
   },
   "outputs": [
    {
     "data": {
      "text/plain": [
       "tuple"
      ]
     },
     "execution_count": 2,
     "metadata": {},
     "output_type": "execute_result"
    }
   ],
   "source": [
    "# tuple(its values can not be changed)\n",
    "tup = (123,89,57,13,'khan')\n",
    "type(tup)"
   ]
  },
  {
   "cell_type": "code",
   "execution_count": 5,
   "metadata": {
    "collapsed": true
   },
   "outputs": [
    {
     "data": {
      "text/plain": [
       "{67, 89, 'ahmad'}"
      ]
     },
     "execution_count": 5,
     "metadata": {},
     "output_type": "execute_result"
    }
   ],
   "source": [
    "# Set(it does not arrange the elements in order rather it focus on the quick retrival of the records)\n",
    "# Set does not support indexing(it automatically removes duplicate values)\n",
    "set1 = {'ahmad', 67,89}\n",
    "type(set1)\n",
    "set1."
   ]
  },
  {
   "cell_type": "code",
   "execution_count": 6,
   "metadata": {
    "collapsed": true
   },
   "outputs": [
    {
     "data": {
      "text/plain": [
       "140703786675360"
      ]
     },
     "execution_count": 6,
     "metadata": {},
     "output_type": "execute_result"
    }
   ],
   "source": [
    "# to get the address of a variable\n",
    "num = 45\n",
    "id(num)\n",
    "# the same can be done for any type of variable"
   ]
  },
  {
   "cell_type": "code",
   "execution_count": 7,
   "metadata": {
    "collapsed": true
   },
   "outputs": [
    {
     "name": "stdout",
     "output_type": "stream",
     "text": [
      "140703786674464\n",
      "140703786674464\n"
     ]
    }
   ],
   "source": [
    "# variable having the same data will occupy only single space(both variable will point to the same occupied space)\n",
    "a = 17\n",
    "b = a\n",
    "print(id(a))\n",
    "print(id(b))\n",
    "# in python everything is an object"
   ]
  },
  {
   "cell_type": "code",
   "execution_count": 11,
   "metadata": {},
   "outputs": [],
   "source": [
    "x=3\n",
    "x=x+2\n",
    "\n",
    "# the above line can also be written as\n",
    "x+=2\n",
    "\n",
    "x*=2\n",
    "#and much more"
   ]
  },
  {
   "cell_type": "code",
   "execution_count": 13,
   "metadata": {
    "collapsed": true
   },
   "outputs": [
    {
     "data": {
      "text/plain": [
       "4"
      ]
     },
     "execution_count": 13,
     "metadata": {},
     "output_type": "execute_result"
    }
   ],
   "source": [
    "# assign values for many variable in one line\n",
    "a,b = 3,4"
   ]
  },
  {
   "cell_type": "code",
   "execution_count": 16,
   "metadata": {
    "collapsed": true
   },
   "outputs": [
    {
     "data": {
      "text/plain": [
       "False"
      ]
     },
     "execution_count": 16,
     "metadata": {},
     "output_type": "execute_result"
    }
   ],
   "source": [
    "# Relational Operator\n",
    "a>b\n",
    "a<b\n",
    "a==b\n",
    "# >= , <=\n",
    "# in not equal (!=)"
   ]
  },
  {
   "cell_type": "code",
   "execution_count": 23,
   "metadata": {
    "collapsed": true
   },
   "outputs": [
    {
     "data": {
      "text/plain": [
       "True"
      ]
     },
     "execution_count": 23,
     "metadata": {},
     "output_type": "execute_result"
    }
   ],
   "source": [
    "# Logical Operators(checking two conditions at the same time)\n",
    "#AND\n",
    "#OR\n",
    "#NOT\n",
    "a<6 and b>7 \n",
    "a<9 or b<3\n",
    "# we can use (not) to False the True value\n",
    "x=False\n",
    "not x"
   ]
  },
  {
   "cell_type": "code",
   "execution_count": 1,
   "metadata": {
    "collapsed": true
   },
   "outputs": [
    {
     "data": {
      "text/plain": [
       "-24"
      ]
     },
     "execution_count": 1,
     "metadata": {},
     "output_type": "execute_result"
    }
   ],
   "source": [
    "# Operators\n",
    "# Compliment operator (~)\n",
    "~23"
   ]
  },
  {
   "cell_type": "code",
   "execution_count": 3,
   "metadata": {
    "collapsed": true
   },
   "outputs": [
    {
     "data": {
      "text/plain": [
       "12"
      ]
     },
     "execution_count": 3,
     "metadata": {},
     "output_type": "execute_result"
    }
   ],
   "source": [
    "# Bitwise & Operator(convert the numbers into bits and then apply (and) logic on it)\n",
    "12 & 14"
   ]
  },
  {
   "cell_type": "code",
   "execution_count": 4,
   "metadata": {
    "collapsed": true
   },
   "outputs": [
    {
     "data": {
      "text/plain": [
       "31"
      ]
     },
     "execution_count": 4,
     "metadata": {},
     "output_type": "execute_result"
    }
   ],
   "source": [
    "# Bitwise | (or) Operator(Convert the numbers into bits and then apply (or) logic on it)\n",
    "12|23"
   ]
  },
  {
   "cell_type": "code",
   "execution_count": 5,
   "metadata": {
    "collapsed": true
   },
   "outputs": [
    {
     "data": {
      "text/plain": [
       "54"
      ]
     },
     "execution_count": 5,
     "metadata": {},
     "output_type": "execute_result"
    }
   ],
   "source": [
    "# XOR (^) Exclusive or logic\n",
    "# Convert to binary and then apply XOR logic\n",
    "23^33"
   ]
  },
  {
   "cell_type": "code",
   "execution_count": 6,
   "metadata": {
    "collapsed": true
   },
   "outputs": [
    {
     "data": {
      "text/plain": [
       "202310139510784"
      ]
     },
     "execution_count": 6,
     "metadata": {},
     "output_type": "execute_result"
    }
   ],
   "source": [
    "# Left shift operator\n",
    "# in which we shift bits to the left\n",
    "23<<43"
   ]
  },
  {
   "cell_type": "code",
   "execution_count": 7,
   "metadata": {
    "collapsed": true
   },
   "outputs": [
    {
     "data": {
      "text/plain": [
       "0"
      ]
     },
     "execution_count": 7,
     "metadata": {},
     "output_type": "execute_result"
    }
   ],
   "source": [
    "# Right Shift operator\n",
    "# in which we shift bits to the left\n",
    "23>>34"
   ]
  },
  {
   "cell_type": "code",
   "execution_count": 19,
   "metadata": {
    "collapsed": true
   },
   "outputs": [
    {
     "name": "stdout",
     "output_type": "stream",
     "text": [
      "Enter 1st number 2\n",
      "Enter 2nd number 2\n",
      "The sum of the two numbers is  4\n"
     ]
    }
   ],
   "source": [
    "# Taking input from the user\n",
    "# Basically the input mehtod treats all the values as strings\n",
    "x = input('Enter 1st number ')\n",
    "y = input('Enter 2nd number ')\n",
    "# Convert x and y into integers\n",
    "a = int(x)\n",
    "b = int(y)\n",
    "z = a+b\n",
    "print('The sum of the two numbers is ',z)"
   ]
  },
  {
   "cell_type": "code",
   "execution_count": 21,
   "metadata": {
    "collapsed": true
   },
   "outputs": [
    {
     "name": "stdout",
     "output_type": "stream",
     "text": [
      "Enter 1st number 1\n",
      "Enter 2nd number 1\n",
      "The sum of the two numbers is  2\n"
     ]
    }
   ],
   "source": [
    "# Taking input from the user\n",
    "# Basically the input mehtod treats all the values as strings\n",
    "# string can also be converted into an integer as\n",
    "x = int(input('Enter 1st number '))\n",
    "y = int(input('Enter 2nd number '))\n",
    "z=x+y\n",
    "print('The sum of the two numbers is ',z)"
   ]
  },
  {
   "cell_type": "code",
   "execution_count": 23,
   "metadata": {
    "collapsed": true
   },
   "outputs": [
    {
     "name": "stdout",
     "output_type": "stream",
     "text": [
      "enter something some\n"
     ]
    },
    {
     "data": {
      "text/plain": [
       "'s'"
      ]
     },
     "execution_count": 23,
     "metadata": {},
     "output_type": "execute_result"
    }
   ],
   "source": [
    "# String manipulation\n",
    "# to keep only 1st or any character from the user input, we can use indexing\n",
    "char = input('enter something ')[0]\n",
    "char"
   ]
  },
  {
   "cell_type": "code",
   "execution_count": 1,
   "metadata": {},
   "outputs": [],
   "source": [
    "# Conditional Statements\n",
    "# if\n",
    "# else etc"
   ]
  },
  {
   "cell_type": "code",
   "execution_count": 6,
   "metadata": {
    "collapsed": true
   },
   "outputs": [
    {
     "name": "stdout",
     "output_type": "stream",
     "text": [
      "Enter a Number 4\n",
      "The Number You Entered is Even\n",
      "The End!!!!\n"
     ]
    }
   ],
   "source": [
    "# Even ood checker\n",
    "x = int(input('Enter a Number '))\n",
    "r= x % 2\n",
    "\n",
    "if r==0:\n",
    "    print('The Number You Entered is Even')\n",
    "else:\n",
    "    print('The Number You Entered is Odd')\n",
    "print('The End!!!!')"
   ]
  },
  {
   "cell_type": "code",
   "execution_count": 10,
   "metadata": {
    "collapsed": true
   },
   "outputs": [
    {
     "name": "stdout",
     "output_type": "stream",
     "text": [
      "Enter a Number 8\n",
      "The Number You Entered is Even\n",
      "Hurray, this is nested if....\n",
      "The End!!!!\n"
     ]
    }
   ],
   "source": [
    "# Even ood checker(using nested conditional statements)\n",
    "x = int(input('Enter a Number '))\n",
    "r= x % 2\n",
    "\n",
    "if r==0:\n",
    "    print('The Number You Entered is Even')\n",
    "    if x>5:\n",
    "        print('Hurray, this is nested if....')\n",
    "    else:\n",
    "        print('Hurray, this is the else part of the nested if')\n",
    "else:\n",
    "    print('The Number You Entered is Odd')\n",
    "print('The End!!!!')"
   ]
  },
  {
   "cell_type": "code",
   "execution_count": 11,
   "metadata": {
    "collapsed": true
   },
   "outputs": [
    {
     "name": "stdout",
     "output_type": "stream",
     "text": [
      "Enter a number between 0 and 54\n",
      "You Entered Four\n"
     ]
    }
   ],
   "source": [
    "# Example on if elif and else\n",
    "x = int(input('Enter a number between 0 and 5 '))\n",
    "if x == 0:\n",
    "    print('You Entered Zero')\n",
    "    \n",
    "elif x == 1:\n",
    "    print('You Entered One')\n",
    "    \n",
    "elif x == 2:\n",
    "    print('You Entered Two')\n",
    "    \n",
    "elif x == 3:\n",
    "    print('You Entered Three')\n",
    "    \n",
    "elif x == 4:\n",
    "    print('You Entered Four')\n",
    "    \n",
    "elif x == 5:\n",
    "    print('You Entered Five')\n",
    "    \n",
    "else:\n",
    "    print('Invalid Input')"
   ]
  },
  {
   "cell_type": "code",
   "execution_count": 3,
   "metadata": {
    "collapsed": true
   },
   "outputs": [
    {
     "name": "stdout",
     "output_type": "stream",
     "text": [
      "I am 1\n",
      "I am 2\n",
      "I am 3\n",
      "I am 4\n",
      "I am 5\n"
     ]
    }
   ],
   "source": [
    "# Loop Prectice\n",
    "# for and while loop etc\n",
    "i=1\n",
    "while i<=5:\n",
    "    print('I am',i)\n",
    "    i=i+1"
   ]
  },
  {
   "cell_type": "code",
   "execution_count": 7,
   "metadata": {
    "collapsed": true
   },
   "outputs": [
    {
     "name": "stdout",
     "output_type": "stream",
     "text": [
      "looper 0\n",
      "looper 1\n",
      "looper 2\n",
      "looper 3\n",
      "looper 4\n"
     ]
    }
   ],
   "source": [
    "# the above can also be achived as\n",
    "for i in range(5):\n",
    "    print('looper', i)"
   ]
  },
  {
   "cell_type": "code",
   "execution_count": 47,
   "metadata": {
    "collapsed": true
   },
   "outputs": [
    {
     "name": "stdout",
     "output_type": "stream",
     "text": [
      "5\n",
      "4\n",
      "3\n",
      "2\n",
      "1\n",
      "BOOOOM!!!!\n"
     ]
    }
   ],
   "source": [
    "# Loop Prectice\n",
    "# for and while loop etc\n",
    "# priting in reverse order\n",
    "i=5\n",
    "while i>=1:\n",
    "    print(i)\n",
    "    i=i-1\n",
    "print('BOOOOM!!!!')"
   ]
  },
  {
   "cell_type": "code",
   "execution_count": 14,
   "metadata": {
    "collapsed": true
   },
   "outputs": [
    {
     "name": "stdout",
     "output_type": "stream",
     "text": [
      "A\n",
      "h\n",
      "m\n",
      "a\n",
      "d\n",
      " \n",
      "H\n",
      "a\n",
      "s\n",
      "s\n",
      "a\n",
      "n\n"
     ]
    }
   ],
   "source": [
    "# furhter examples on for loop\n",
    "x = 'Ahmad Hassan'\n",
    "for i in x:\n",
    "    print(i)"
   ]
  },
  {
   "cell_type": "code",
   "execution_count": 5,
   "metadata": {
    "collapsed": true
   },
   "outputs": [
    {
     "name": "stdout",
     "output_type": "stream",
     "text": [
      "NOTE: Enter 'c' at the ipdb>  prompt to continue execution.\n",
      "> \u001b[1;32m<string>\u001b[0m(3)\u001b[0;36m<module>\u001b[1;34m()\u001b[0m\n",
      "\n",
      "ipdb> x\n",
      "1\n",
      "ipdb> AVIL_CANDY\n",
      "6\n",
      "ipdb> i\n",
      "1\n",
      "ipdb> i\n",
      "1\n",
      "--KeyboardInterrupt--\n",
      "--KeyboardInterrupt--\n",
      "ipdb> c\n",
      "How many Candies do you want? 5\n",
      "Here is your Candy 1\n",
      "Here is your Candy 2\n",
      "Here is your Candy 3\n",
      "Here is your Candy 4\n",
      "Here is your Candy 5\n"
     ]
    }
   ],
   "source": [
    "# Example on BREAK CONTINUE and PASS\n",
    "AVIL_CANDY = 6\n",
    "x = int(input('How many Candies do you want? '))\n",
    "for i in range(x):\n",
    "    if x > AVIL_CANDY:\n",
    "        print('we dont have that much candy')\n",
    "        break\n",
    "    i = i+1\n",
    "    print('Here is your Candy',i)"
   ]
  },
  {
   "cell_type": "code",
   "execution_count": 2,
   "metadata": {
    "collapsed": true
   },
   "outputs": [
    {
     "name": "stderr",
     "output_type": "stream",
     "text": [
      "ERROR:root:No traceback has been produced, nothing to debug.\n"
     ]
    }
   ],
   "source": [
    "# Example on CONTINUE\n"
   ]
  },
  {
   "cell_type": "code",
   "execution_count": null,
   "metadata": {},
   "outputs": [],
   "source": []
  },
  {
   "cell_type": "code",
   "execution_count": null,
   "metadata": {},
   "outputs": [],
   "source": []
  },
  {
   "cell_type": "code",
   "execution_count": null,
   "metadata": {},
   "outputs": [],
   "source": []
  },
  {
   "cell_type": "code",
   "execution_count": null,
   "metadata": {},
   "outputs": [],
   "source": []
  }
 ],
 "metadata": {
  "kernelspec": {
   "display_name": "Python 3",
   "language": "python",
   "name": "python3"
  },
  "language_info": {
   "codemirror_mode": {
    "name": "ipython",
    "version": 3
   },
   "file_extension": ".py",
   "mimetype": "text/x-python",
   "name": "python",
   "nbconvert_exporter": "python",
   "pygments_lexer": "ipython3",
   "version": "3.8.5"
  }
 },
 "nbformat": 4,
 "nbformat_minor": 4
}
