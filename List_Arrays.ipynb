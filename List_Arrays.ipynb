{
 "cells": [
  {
   "cell_type": "code",
   "execution_count": 2,
   "metadata": {},
   "outputs": [
    {
     "name": "stdout",
     "output_type": "stream",
     "text": [
      "[1, 2, 3, 4, 77, 98]\n"
     ]
    }
   ],
   "source": [
    "#giving values to multiple variables\n",
    "\n",
    "statement1 = 1\n",
    "statement2 = 2\n",
    "statement3 = 3\n",
    "\n",
    "#the above code can be optimized as\n",
    "\n",
    "statementAll = [1, 2, 3, 4, 77, 98]    #multiple values can be assigned to a single variable\n",
    "\n",
    "print(statementAll)\n"
   ]
  },
  {
   "cell_type": "code",
   "execution_count": 3,
   "metadata": {},
   "outputs": [
    {
     "data": {
      "text/plain": [
       "list"
      ]
     },
     "execution_count": 3,
     "metadata": {},
     "output_type": "execute_result"
    }
   ],
   "source": [
    "#cheking the type of the variable with multiple parameters/values\n",
    "type(statementAll)        "
   ]
  },
  {
   "cell_type": "code",
   "execution_count": 4,
   "metadata": {},
   "outputs": [
    {
     "data": {
      "text/plain": [
       "list"
      ]
     },
     "execution_count": 4,
     "metadata": {},
     "output_type": "execute_result"
    }
   ],
   "source": [
    "# strings and integers can be in a list at the same time. any datatype will work in a list\n",
    "myFavoriteFruits_numbers = ['mango','apple','grapes',44,76,89]\n",
    "type(myFavoriteFruits_numbers)"
   ]
  },
  {
   "cell_type": "code",
   "execution_count": 5,
   "metadata": {},
   "outputs": [
    {
     "data": {
      "text/plain": [
       "77"
      ]
     },
     "execution_count": 5,
     "metadata": {},
     "output_type": "execute_result"
    }
   ],
   "source": [
    "# this is how data is retrieved from a list\n",
    "# the value is retrived from the list based on the index number\n",
    "statementAll[4]"
   ]
  },
  {
   "cell_type": "code",
   "execution_count": 7,
   "metadata": {},
   "outputs": [
    {
     "name": "stdout",
     "output_type": "stream",
     "text": [
      "77\n"
     ]
    }
   ],
   "source": [
    "#we are gonna pull out a number from a list and store it in a different variable\n",
    "#this line will pull out the value at index=4 in the list called statementAll\n",
    "newVariable = statementAll[4]\n",
    "print(newVariable)"
   ]
  },
  {
   "cell_type": "code",
   "execution_count": null,
   "metadata": {},
   "outputs": [],
   "source": []
  }
 ],
 "metadata": {
  "kernelspec": {
   "display_name": "Python 3",
   "language": "python",
   "name": "python3"
  },
  "language_info": {
   "codemirror_mode": {
    "name": "ipython",
    "version": 3
   },
   "file_extension": ".py",
   "mimetype": "text/x-python",
   "name": "python",
   "nbconvert_exporter": "python",
   "pygments_lexer": "ipython3",
   "version": "3.8.5"
  }
 },
 "nbformat": 4,
 "nbformat_minor": 4
}
